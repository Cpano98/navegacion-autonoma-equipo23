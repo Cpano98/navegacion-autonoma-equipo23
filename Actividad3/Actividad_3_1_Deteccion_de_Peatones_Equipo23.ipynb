{
 "cells": [
  {
   "cell_type": "markdown",
   "id": "ca7162a0-5024-4191-8565-66f8fd44b211",
   "metadata": {},
   "source": [
    "# Actividad 3.1\n",
    "## Detección de Peatones con SVM\n",
    "\n",
    "---\n",
    "\n",
    "### Integrantes del Equipo 23:\n",
    "* Carlos Pano Hernández - A01066264 [Campus Estado de México]\n",
    "* Marie Kate Palau - A01705711 [Campus Monterrey]\n",
    "* Edson Ulises Rodríguez Dávalos - A01796057 [Campus CdMx]\n",
    "* Yohanna Ceballos Salomón - A01795115 [Campus Monterrey]\n",
    "\n",
    "---\n",
    "\n",
    "### Escuela de Ingeniería y Ciencias, Tecnológico de Monterrey\n",
    "**Navegación autónoma (MR4010 - Gpo 10)**\n",
    "\n",
    "---\n",
    "\n",
    "#### Profesor Titular:\n",
    "Dr. David Antonio Torres\n",
    "\n",
    "#### Profesor Asistente:\n",
    "Mtra. María Mylen Treviño Elizondo\n",
    "\n",
    "---\n",
    "\n",
    "**Viernes 16 de mayo del 2025**"
   ]
  },
  {
   "cell_type": "code",
   "execution_count": null,
   "id": "ddb9ebbc-f061-4793-9ed5-7bc8c187e36e",
   "metadata": {},
   "outputs": [],
   "source": []
  },
  {
   "cell_type": "code",
   "execution_count": null,
   "id": "39943303-4587-4be1-ba85-6fa5abe56fd2",
   "metadata": {},
   "outputs": [],
   "source": []
  }
 ],
 "metadata": {
  "kernelspec": {
   "display_name": "Python 3 (ipykernel)",
   "language": "python",
   "name": "python3"
  },
  "language_info": {
   "codemirror_mode": {
    "name": "ipython",
    "version": 3
   },
   "file_extension": ".py",
   "mimetype": "text/x-python",
   "name": "python",
   "nbconvert_exporter": "python",
   "pygments_lexer": "ipython3",
   "version": "3.12.5"
  }
 },
 "nbformat": 4,
 "nbformat_minor": 5
}
